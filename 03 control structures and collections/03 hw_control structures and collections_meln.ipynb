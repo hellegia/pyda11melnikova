{
 "cells": [
  {
   "cell_type": "markdown",
   "metadata": {},
   "source": [
    "Задача 1. Дано слово из латинских букв. Напишите скрипт, который выводит на экран букву из середины слова (если число букв нечетное). Если букв четное число, то на экран выводятся две буквы из середины.\n",
    "\n",
    "Пример: для 'test' должно выводится 'es', для 'testing' - 't'"
   ]
  },
  {
   "cell_type": "code",
   "execution_count": 5,
   "metadata": {},
   "outputs": [
    {
     "name": "stdout",
     "output_type": "stream",
     "text": [
      "Введите слово из латинских букв  testing\n",
      "t\n"
     ]
    }
   ],
   "source": [
    "slovo = input('Введите слово из латинских букв  ') #вводим слово с клавиатуры\n",
    "if len(slovo) % 2 != 0:\n",
    "    k = int(len(slovo) // 2) #работает через раз\n",
    "    print(f'{slovo[k]}')\n",
    "else:\n",
    "    s = int(len(slovo) / 2 -1)\n",
    "    print(f'{slovo[s:s+2]}')"
   ]
  },
  {
   "cell_type": "markdown",
   "metadata": {},
   "source": [
    "Задача 2. Мы делаем MVP dating-сервиса, и у нас есть список парней и девушек (их число может варьироваться):\n",
    "\n",
    "boys = ['Peter', 'Alex', 'John', 'Arthur', 'Richard'] girls = ['Kate', 'Liza', 'Kira', 'Emma', 'Trisha']\n",
    "\n",
    "Выдвигаем гипотезу: лучшие рекомендации мы получим, если просто отсортируем имена по алфавиту и познакомим людей с одинаковыми индексами после сортировки! \"Познакомить\" пары нам поможет функция zip, а в цикле распакуем zip-объект и выведем информацию в виде:\n",
    "\n",
    "Идеальные пары: Alex и Emma Arthur и Kate John и Kira Peter и Liza Richard и Trisha\n",
    "\n",
    "Внимание! Если количество людей в списках будет не совпадать, то мы никого знакомить не будет и выведем пользователю предупреждение, что кто-то может остаться без пары!"
   ]
  },
  {
   "cell_type": "code",
   "execution_count": 6,
   "metadata": {},
   "outputs": [
    {
     "name": "stdout",
     "output_type": "stream",
     "text": [
      "Идеальные пары:\n",
      "Alex и Emma\n",
      "Arthur и Kate\n",
      "John и Kira\n",
      "Peter и Liza\n",
      "Richard и Trisha\n"
     ]
    }
   ],
   "source": [
    "boys = ['Peter', 'Alex', 'John', 'Arthur', 'Richard']\n",
    "girls = ['Kate', 'Liza', 'Kira', 'Emma', 'Trisha']\n",
    "boys = sorted(boys)\n",
    "girls = sorted(girls)\n",
    "if len(boys) == len(girls):\n",
    "    print('Идеальные пары:')\n",
    "    by_pairs = zip(boys, girls)\n",
    "    for para in by_pairs:\n",
    "        print(f'{para[0]} и {para[1]}')\n",
    "else:\n",
    "    print('Кто-то может остаться без пары!')"
   ]
  },
  {
   "cell_type": "markdown",
   "metadata": {},
   "source": [
    "Задача 3. У нас есть список, содержащий информацию о среднедневной температуре в Фаренгейтах за недельный период по странам. Необходимо написать код, который рассчитает среднюю температуру за неделю в Цельсиях для каждой страны.\n",
    "countries_temperature = [\n",
    " ['Thailand', [75.2, 77, 78.8, 73.4, 68, 75.2, 77]],\n",
    " ['Germany', [57.2, 55.4, 59, 59, 53.6, 55.4, 57.2]],\n",
    " ['Russia', [35.6, 37.4, 39.2, 41, 42.8, 39.2, 35.6]],\n",
    " ['Poland', [50, 50, 53.6, 57.2, 55.4, 55.4, 51.8]],\n",
    "]"
   ]
  },
  {
   "cell_type": "code",
   "execution_count": 7,
   "metadata": {},
   "outputs": [
    {
     "name": "stdout",
     "output_type": "stream",
     "text": [
      "Thailand 74.9\n",
      "Germany 56.7\n",
      "Russia 38.7\n",
      "Poland 53.0\n"
     ]
    }
   ],
   "source": [
    "countries_temperature = [\n",
    " ['Thailand', [75.2, 77, 78.8, 73.4, 68, 75.2, 77]],\n",
    " ['Germany', [57.2, 55.4, 59, 59, 53.6, 55.4, 57.2]],\n",
    " ['Russia', [35.6, 37.4, 39.2, 41, 42.8, 39.2, 35.6]],\n",
    " ['Poland', [50, 50, 53, 57, 55, 55, 51]],\n",
    "]\n",
    "for temp_ in countries_temperature:\n",
    "    print(f'{temp_[0]} {(sum(temp_[1])/7):.1f}')"
   ]
  },
  {
   "cell_type": "markdown",
   "metadata": {},
   "source": [
    "Задача 4. Дан поток логов по количеству просмотренных страниц для каждого пользователя. Список отсортирован по ID пользователя. Вам необходимо написать алгоритм, который считает среднее значение просмотров на пользователя. Т. е. надо посчитать отношение суммы всех просмотров к количеству уникальных пользователей.\n"
   ]
  },
  {
   "cell_type": "code",
   "execution_count": 8,
   "metadata": {},
   "outputs": [
    {
     "name": "stdout",
     "output_type": "stream",
     "text": [
      "Cреднее значение просмотров на пользователя 23.2\n"
     ]
    }
   ],
   "source": [
    "stream = [\n",
    "    '2018-01-01,user1,3',\n",
    "    '2018-01-07,user1,4',\n",
    "    '2018-03-29,user1,1',\n",
    "    '2018-04-04,user1,13',\n",
    "    '2018-01-05,user2,7',\n",
    "    '2018-06-14,user3,4',\n",
    "    '2018-07-02,user3,10',\n",
    "    '2018-03-21,user4,19',\n",
    "    '2018-03-22,user4,4',\n",
    "    '2018-04-22,user4,8',\n",
    "    '2018-05-03,user4,9',\n",
    "    '2018-05-11,user4,11',\n",
    "]\n",
    "new_stream = []\n",
    "for line in stream:\n",
    "    line =  line.split(',')\n",
    "    new_stream.append(line) # каждую строчку сделали списком и сделали новый список списков\n",
    "summa = 0        #сумма всех просмотров\n",
    "count_user = 1 #количество всех уникальных пользователей,по умолчанию 1\n",
    "user = 'user1'\n",
    "for i in range(len(new_stream)):\n",
    "    summa += int(new_stream[i][2])\n",
    "    if new_stream[i][1] != user:\n",
    "        count_user += 1\n",
    "        user = new_stream[i][1]\n",
    "    else:\n",
    "        user = new_stream[i][1]\n",
    "print(f'Cреднее значение просмотров на пользователя {summa/count_user:.1f}' )"
   ]
  },
  {
   "cell_type": "markdown",
   "metadata": {},
   "source": [
    "Задача 5. Дана статистика рекламных кампаний по дням. Напишите алгоритм, который по паре дата-кампания ищет значение численного столбца. Т. е. для даты '2018-01-01' и 'google' нужно получить число 25. Считайте, что все комбинации дата-кампания уникальны.\n",
    "\n",
    "Не уверена,что правильно поняла условие задачи,но как поняла, так и сделала."
   ]
  },
  {
   "cell_type": "code",
   "execution_count": 9,
   "metadata": {},
   "outputs": [
    {
     "name": "stdout",
     "output_type": "stream",
     "text": [
      "2018-01-02\n",
      "market\n",
      "994\n"
     ]
    }
   ],
   "source": [
    "stats = [\n",
    "    ['2018-01-01', 'google', 25],\n",
    "    ['2018-01-01', 'yandex', 65],\n",
    "    ['2018-01-01', 'market', 89],\n",
    "    ['2018-01-02', 'google', 574],\n",
    "    ['2018-01-02', 'yandex', 249],\n",
    "    ['2018-01-02', 'market', 994],\n",
    "    ['2018-01-03', 'google', 1843],\n",
    "    ['2018-01-03', 'yandex', 1327],\n",
    "    ['2018-01-03', 'market', 1764],\n",
    "]\n",
    "data = input()  #вводим дату с клавиатуры (копирую из списка выше)\n",
    "kompany = input() #вводим компанию с клавиатуры\n",
    "for advert in stats:\n",
    "    if data == advert[0] and kompany == advert[1]:\n",
    "        print(advert[2])"
   ]
  },
  {
   "cell_type": "markdown",
   "metadata": {},
   "source": [
    "Задача 6. Дан список. Напишите код, который будет вычислять сумму элементов на диагонали. Т. е. 13+32+23+35. Список может быть любой длины, но всегда является \"квадратным\" (количество элементов во вложенных списках равно их количеству)."
   ]
  },
  {
   "cell_type": "code",
   "execution_count": 10,
   "metadata": {},
   "outputs": [
    {
     "name": "stdout",
     "output_type": "stream",
     "text": [
      "13 25 23 34 \n",
      "45 32 44 47 \n",
      "12 33 23 95 \n",
      "13 53 34 35 \n",
      "\n",
      "Сумма элементов на диагонали будет равна 103\n"
     ]
    }
   ],
   "source": [
    "data = [\n",
    "    [13, 25, 23, 34],\n",
    "    [45, 32, 44, 47],\n",
    "    [12, 33, 23, 95],\n",
    "    [13, 53, 34, 35]\n",
    "]\n",
    "\n",
    "for i in range(len(data)):\n",
    "    for j in range(len(data[i])):\n",
    "        print(data[i][j], end = ' ')\n",
    "    print()\n",
    "print()\n",
    "summa_diag = 0\n",
    "for i in range(len(data)):\n",
    "    for j in range(len(data[i])):\n",
    "        if i == j:\n",
    "            summa_diag = summa_diag+ data[i][j]\n",
    "\n",
    "print(f'Сумма элементов на диагонали будет равна {summa_diag}')"
   ]
  },
  {
   "cell_type": "code",
   "execution_count": null,
   "metadata": {},
   "outputs": [],
   "source": []
  }
 ],
 "metadata": {
  "kernelspec": {
   "display_name": "Python 3",
   "language": "python",
   "name": "python3"
  },
  "language_info": {
   "codemirror_mode": {
    "name": "ipython",
    "version": 3
   },
   "file_extension": ".py",
   "mimetype": "text/x-python",
   "name": "python",
   "nbconvert_exporter": "python",
   "pygments_lexer": "ipython3",
   "version": "3.7.6"
  }
 },
 "nbformat": 4,
 "nbformat_minor": 4
}
