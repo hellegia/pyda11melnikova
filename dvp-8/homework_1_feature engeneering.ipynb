{
 "cells": [
  {
   "cell_type": "code",
   "execution_count": 31,
   "metadata": {},
   "outputs": [],
   "source": [
    "import numpy as np\n",
    "import pandas as pd\n",
    "\n",
    "from sklearn.linear_model import LinearRegression"
   ]
  },
  {
   "cell_type": "markdown",
   "metadata": {},
   "source": [
    "Рассмотрим задачу множественной регрессии. Допустим, у нас есть дата сет, в котором указан рост абитуриента, суммарный балл, который он получил/ получила на ЕГЭ , примерное количество часов, которое было потрачено на подготовку к экзаменам, и стоимость обучения в ВУЗЕ. Логично предположить наличие обратной зависимости цены обучения от количества часов и суммарного балла (у абитуриентов с высокими баллами бывают скидки на обучение, а некоторые даже учатся бесплатно). И предположим \"ненастоящую зависимость\" от роста абитуриента (вдруг, чем выше абитуриент, тем дешевле ему учиться ;) )"
   ]
  },
  {
   "cell_type": "code",
   "execution_count": 32,
   "metadata": {},
   "outputs": [
    {
     "data": {
      "text/html": [
       "<div>\n",
       "<style scoped>\n",
       "    .dataframe tbody tr th:only-of-type {\n",
       "        vertical-align: middle;\n",
       "    }\n",
       "\n",
       "    .dataframe tbody tr th {\n",
       "        vertical-align: top;\n",
       "    }\n",
       "\n",
       "    .dataframe thead th {\n",
       "        text-align: right;\n",
       "    }\n",
       "</style>\n",
       "<table border=\"1\" class=\"dataframe\">\n",
       "  <thead>\n",
       "    <tr style=\"text-align: right;\">\n",
       "      <th></th>\n",
       "      <th>height_owner</th>\n",
       "      <th>sum_ege</th>\n",
       "      <th>col_hours</th>\n",
       "      <th>price</th>\n",
       "    </tr>\n",
       "  </thead>\n",
       "  <tbody>\n",
       "    <tr>\n",
       "      <th>0</th>\n",
       "      <td>151</td>\n",
       "      <td>268</td>\n",
       "      <td>554</td>\n",
       "      <td>151528</td>\n",
       "    </tr>\n",
       "    <tr>\n",
       "      <th>1</th>\n",
       "      <td>156</td>\n",
       "      <td>165</td>\n",
       "      <td>262</td>\n",
       "      <td>256770</td>\n",
       "    </tr>\n",
       "    <tr>\n",
       "      <th>2</th>\n",
       "      <td>183</td>\n",
       "      <td>204</td>\n",
       "      <td>491</td>\n",
       "      <td>199836</td>\n",
       "    </tr>\n",
       "    <tr>\n",
       "      <th>3</th>\n",
       "      <td>171</td>\n",
       "      <td>234</td>\n",
       "      <td>369</td>\n",
       "      <td>213654</td>\n",
       "    </tr>\n",
       "    <tr>\n",
       "      <th>4</th>\n",
       "      <td>179</td>\n",
       "      <td>182</td>\n",
       "      <td>349</td>\n",
       "      <td>236482</td>\n",
       "    </tr>\n",
       "  </tbody>\n",
       "</table>\n",
       "</div>"
      ],
      "text/plain": [
       "   height_owner  sum_ege  col_hours   price\n",
       "0           151      268        554  151528\n",
       "1           156      165        262  256770\n",
       "2           183      204        491  199836\n",
       "3           171      234        369  213654\n",
       "4           179      182        349  236482"
      ]
     },
     "execution_count": 32,
     "metadata": {},
     "output_type": "execute_result"
    }
   ],
   "source": [
    "# Создаём сэмпл\n",
    "n_samples = 600 # количество наблюдений / объектов\n",
    "\n",
    "height_owner = np.random.choice(50, n_samples) + 150 #рост абитуриента\n",
    "sum_ege = np.random.choice(180, n_samples) + 120 #суммарный балл егэ\n",
    "col_hours = np.random.choice(500, n_samples) + 100 #количество часов, потраченных на подготовку к егэ\n",
    "\n",
    "price = 300000 - sum_ege * col_hours   #стоимость обучения в вузе в семестр примерно, формула искусственна по сути\n",
    "\n",
    "data = pd.DataFrame({'height_owner': height_owner, 'sum_ege': sum_ege, 'col_hours': col_hours, 'price': price})\n",
    "data.head(5)"
   ]
  },
  {
   "cell_type": "markdown",
   "metadata": {},
   "source": [
    "Попробуем сделать первую тестовую модель, в которой предположим зависимость стоимости обучения от роста,\n",
    "суммы баллов и количества часов"
   ]
  },
  {
   "cell_type": "code",
   "execution_count": 33,
   "metadata": {},
   "outputs": [
    {
     "name": "stdout",
     "output_type": "stream",
     "text": [
      "Weights: [   4.9230212  -346.47618363 -208.5227684 ]\n",
      "Bias: 371567.10884934146\n",
      "Error: 5700.911221065996\n"
     ]
    }
   ],
   "source": [
    "from sklearn.metrics import mean_absolute_error\n",
    "\n",
    "X = data[['height_owner', 'sum_ege', 'col_hours']]\n",
    "y = data['price']\n",
    "reg = LinearRegression().fit(X, y)\n",
    "print('Weights: {}'.format(reg.coef_))\n",
    "print('Bias: {}'.format(reg.intercept_))\n",
    "\n",
    "pred_values = reg.predict(data[['height_owner', 'sum_ege', 'col_hours']])\n",
    "print('Error: {}'.format(mean_absolute_error(pred_values, y)))\n"
   ]
  },
  {
   "cell_type": "markdown",
   "metadata": {},
   "source": [
    "ожидаемая стоимость обучения"
   ]
  },
  {
   "cell_type": "code",
   "execution_count": 34,
   "metadata": {},
   "outputs": [
    {
     "data": {
      "text/plain": [
       "233307.0"
      ]
     },
     "execution_count": 34,
     "metadata": {},
     "output_type": "execute_result"
    }
   ],
   "source": [
    "y.median()"
   ]
  },
  {
   "cell_type": "markdown",
   "metadata": {},
   "source": [
    "Получаем ошибку в 6 тысяч, биас 372 тысячи, это как бы многовато и показывает то, что построенная модель не совсем адекватна и не совсем отражает зависимость\n",
    "Попробуем теперь еще раз построить модель линейной регрессии, уберем рост. Посмотрим, есть ли регрессия между стоимостью и суммой баллов, а также количеством часов "
   ]
  },
  {
   "cell_type": "code",
   "execution_count": 35,
   "metadata": {},
   "outputs": [
    {
     "name": "stdout",
     "output_type": "stream",
     "text": [
      "Weights: [-346.48460889 -208.53725685]\n",
      "Bias: 372427.842726201\n",
      "Error: 5701.954947427251\n"
     ]
    }
   ],
   "source": [
    "X = data[['sum_ege', 'col_hours']]\n",
    "y = data['price']\n",
    "reg = LinearRegression().fit(X, y)\n",
    "print('Weights: {}'.format(reg.coef_))  # веса, коэффициенты регрессии\n",
    "print('Bias: {}'.format(reg.intercept_)) # \n",
    "\n",
    "pred_values = reg.predict(data[['sum_ege', 'col_hours']])\n",
    "print('Error: {}'.format(mean_absolute_error(pred_values, y)))"
   ]
  },
  {
   "cell_type": "markdown",
   "metadata": {},
   "source": [
    "Судя по коэффициентам модели, по оценке ошибке, данная модель настолько же плоха, как и первая. Создадим новую переменную, и построим регрессию с ее помощью."
   ]
  },
  {
   "cell_type": "code",
   "execution_count": 40,
   "metadata": {},
   "outputs": [
    {
     "data": {
      "text/html": [
       "<div>\n",
       "<style scoped>\n",
       "    .dataframe tbody tr th:only-of-type {\n",
       "        vertical-align: middle;\n",
       "    }\n",
       "\n",
       "    .dataframe tbody tr th {\n",
       "        vertical-align: top;\n",
       "    }\n",
       "\n",
       "    .dataframe thead th {\n",
       "        text-align: right;\n",
       "    }\n",
       "</style>\n",
       "<table border=\"1\" class=\"dataframe\">\n",
       "  <thead>\n",
       "    <tr style=\"text-align: right;\">\n",
       "      <th></th>\n",
       "      <th>height_owner</th>\n",
       "      <th>sum_ege</th>\n",
       "      <th>col_hours</th>\n",
       "      <th>price</th>\n",
       "      <th>cost</th>\n",
       "    </tr>\n",
       "  </thead>\n",
       "  <tbody>\n",
       "    <tr>\n",
       "      <th>0</th>\n",
       "      <td>151</td>\n",
       "      <td>268</td>\n",
       "      <td>554</td>\n",
       "      <td>151528</td>\n",
       "      <td>51528</td>\n",
       "    </tr>\n",
       "    <tr>\n",
       "      <th>1</th>\n",
       "      <td>156</td>\n",
       "      <td>165</td>\n",
       "      <td>262</td>\n",
       "      <td>256770</td>\n",
       "      <td>156770</td>\n",
       "    </tr>\n",
       "    <tr>\n",
       "      <th>2</th>\n",
       "      <td>183</td>\n",
       "      <td>204</td>\n",
       "      <td>491</td>\n",
       "      <td>199836</td>\n",
       "      <td>99836</td>\n",
       "    </tr>\n",
       "    <tr>\n",
       "      <th>3</th>\n",
       "      <td>171</td>\n",
       "      <td>234</td>\n",
       "      <td>369</td>\n",
       "      <td>213654</td>\n",
       "      <td>113654</td>\n",
       "    </tr>\n",
       "    <tr>\n",
       "      <th>4</th>\n",
       "      <td>179</td>\n",
       "      <td>182</td>\n",
       "      <td>349</td>\n",
       "      <td>236482</td>\n",
       "      <td>136482</td>\n",
       "    </tr>\n",
       "  </tbody>\n",
       "</table>\n",
       "</div>"
      ],
      "text/plain": [
       "   height_owner  sum_ege  col_hours   price    cost\n",
       "0           151      268        554  151528   51528\n",
       "1           156      165        262  256770  156770\n",
       "2           183      204        491  199836   99836\n",
       "3           171      234        369  213654  113654\n",
       "4           179      182        349  236482  136482"
      ]
     },
     "execution_count": 40,
     "metadata": {},
     "output_type": "execute_result"
    }
   ],
   "source": [
    "# Создаем новый признак\n",
    "data['cost'] = 200000 - data['sum_ege'] * data['col_hours']\n",
    "data.head(5)"
   ]
  },
  {
   "cell_type": "code",
   "execution_count": 41,
   "metadata": {},
   "outputs": [
    {
     "data": {
      "text/plain": [
       "133307.0"
      ]
     },
     "execution_count": 41,
     "metadata": {},
     "output_type": "execute_result"
    }
   ],
   "source": [
    "data['cost'].median()"
   ]
  },
  {
   "cell_type": "code",
   "execution_count": 42,
   "metadata": {},
   "outputs": [
    {
     "name": "stdout",
     "output_type": "stream",
     "text": [
      "Weights: [1.]\n",
      "Bias: 99999.99999999996\n",
      "Error: 6.2088171641031905e-12\n"
     ]
    }
   ],
   "source": [
    "X = data[['cost']]\n",
    "y = data['price']\n",
    "reg = LinearRegression().fit(X, y)\n",
    "print('Weights: {}'.format(reg.coef_))\n",
    "print('Bias: {}'.format(reg.intercept_))\n",
    "\n",
    "pred_values = reg.predict(data[['cost']])\n",
    "print('Error: {}'.format(mean_absolute_error(pred_values, y)))"
   ]
  },
  {
   "cell_type": "markdown",
   "metadata": {},
   "source": [
    "Видим, что в последней модели ошибка меньше на несколько порядков (правда и коэффициент регрессии стал равен единице))) ) но таким образом, можно сделать вывод, что мы научились моделировать с помощью метода множественной линейной регрессии, а также корректировать модель на основе получающихся данных, учитывать возникающую ошибку при моделировании."
   ]
  }
 ],
 "metadata": {
  "kernelspec": {
   "display_name": "Python 3",
   "language": "python",
   "name": "python3"
  },
  "language_info": {
   "codemirror_mode": {
    "name": "ipython",
    "version": 3
   },
   "file_extension": ".py",
   "mimetype": "text/x-python",
   "name": "python",
   "nbconvert_exporter": "python",
   "pygments_lexer": "ipython3",
   "version": "3.7.6"
  }
 },
 "nbformat": 4,
 "nbformat_minor": 4
}
