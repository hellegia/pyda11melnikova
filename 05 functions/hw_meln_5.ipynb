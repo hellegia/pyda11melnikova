{
 "cells": [
  {
   "cell_type": "markdown",
   "metadata": {},
   "source": [
    "Вы работаете секретарем и вам постоянно приходят различные документы. Вы должны быть очень внимательны, чтобы не потерять ни один документ. Каталог документов хранится в следующем виде:"
   ]
  },
  {
   "cell_type": "code",
   "execution_count": 161,
   "metadata": {},
   "outputs": [],
   "source": [
    "documents = [\n",
    "    {'type': 'passport', 'number': '2207 876234', 'name': 'Василий Гупкин'},\n",
    "    {'type': 'invoice', 'number': '11-2', 'name': 'Геннадий Покемонов'},\n",
    "    {'type': 'insurance', 'number': '10006', 'name': 'Аристарх Павлов'}\n",
    "]"
   ]
  },
  {
   "cell_type": "markdown",
   "metadata": {},
   "source": [
    "Перечень полок, на которых находятся документы хранится в следующем виде:"
   ]
  },
  {
   "cell_type": "code",
   "execution_count": 162,
   "metadata": {},
   "outputs": [],
   "source": [
    "directories = {\n",
    "    '1': ['2207 876234', '11-2'],\n",
    "    '2': ['10006'],\n",
    "    '3': []\n",
    "}"
   ]
  },
  {
   "cell_type": "markdown",
   "metadata": {},
   "source": [
    "Необходимо реализовать пользовательские команды (внимание! это не название функций, которые должны быть выразительными, а команды, которые вводит пользователь, чтобы получить необходимый результат):\n",
    "\n",
    "s – shelf – команда, которая спросит номер документа и выведет номер полки, на которой он находится\n",
    "Правильно обработайте ситуации, когда пользователь будет вводить несуществующий документ.\n",
    "\n",
    "d – delete – команда, которая спросит номер документа и удалит его из каталога и из перечня полок. Предусмотрите сценарий, когда пользователь вводит несуществующий документ;\n",
    "m – move – команда, которая спросит номер документа и целевую полку и переместит его с текущей полки на целевую. Корректно обработайте кейсы, когда пользователь пытается переместить несуществующий документ или переместить документ на несуществующую полку;\n",
    "a – add – команда, которая добавит новый документ в каталог и в перечень полок, спросив его номер, тип, имя владельца и номер полки, на котором он будет храниться. Корректно обработайте ситуацию, когда пользователь будет пытаться добавить документ на несуществующую полку."
   ]
  },
  {
   "cell_type": "code",
   "execution_count": 49,
   "metadata": {},
   "outputs": [
    {
     "name": "stdout",
     "output_type": "stream",
     "text": [
      "Аристарх Павлов\n"
     ]
    }
   ],
   "source": [
    "#p – people – команда, которая спросит номер документа и выведет имя человека, которому он принадлежит;\n",
    "def know_people(number):\n",
    "    \"\"\"\n",
    "    know_people – команда, которая спросит номер документа и выведет имя человека, которому он принадлежит\n",
    "    \"\"\"\n",
    "    for item in documents:\n",
    "        if list(item.values())[1] == number:\n",
    "            print(list(item.values())[2])\n",
    "know_people('10006')"
   ]
  },
  {
   "cell_type": "code",
   "execution_count": 68,
   "metadata": {},
   "outputs": [],
   "source": [
    "#    ?????\n",
    "#s – shelf – команда, которая спросит номер документа и выведет номер полки, на которой он находится\n",
    "# правильно обработайте ситуации, когда пользователь будет вводить несуществующий документ. \n",
    "\n",
    "def know_shelf(s):\n",
    "    \"\"\"\n",
    "    know_shelf – команда, которая спросит номер документа и выведет номер полки, на которой он находится\n",
    "    \"\"\"\n",
    "    for element in directories:\n",
    "#         print(directories[element])\n",
    "        for i in range(len(directories[element])):\n",
    "            if directories[element][i] == s:\n",
    "                print(element)\n",
    "#             else \n",
    "\n",
    "know_shelf('2207876234')"
   ]
  },
  {
   "cell_type": "code",
   "execution_count": 82,
   "metadata": {},
   "outputs": [
    {
     "name": "stdout",
     "output_type": "stream",
     "text": [
      "\u001b[1m passport \"2207 876234\" \"Василий Гупкин\"\n",
      "\u001b[1m invoice \"11-2\" \"Геннадий Покемонов\"\n",
      "\u001b[1m insurance \"10006\" \"Аристарх Павлов\"\n"
     ]
    }
   ],
   "source": [
    "#l – list – команда, которая выведет список всех документов в формате   \n",
    "#passport \"2207 876234\" \"Василий Гупкин\"\n",
    "\n",
    "# вопрос,здесь список слово использовалось как перечень,или как тип данных Питон?\n",
    "def list_doc():\n",
    "    \"\"\"\n",
    "    list_doc – команда, которая выведет список всех документов в формате\n",
    "    passport \"2207 876234\" \"Василий Гупкин\" - выделение жирным\n",
    "    \"\"\"\n",
    "    for doc in documents:\n",
    "        print(f'\\033[1m {list(doc.values())[0]} \"{list(doc.values())[1]}\" \"{list(doc.values())[2]}\"')\n",
    "list_doc()"
   ]
  },
  {
   "cell_type": "code",
   "execution_count": 117,
   "metadata": {},
   "outputs": [
    {
     "name": "stdout",
     "output_type": "stream",
     "text": [
      "{'1': ['2207 876234', '11-2'], '2': ['10006'], '3': [], '5': [], '7': []}\n"
     ]
    }
   ],
   "source": [
    "#as – add shelf – команда, которая спросит номер новой полки и добавит ее в перечень. \n",
    "#Предусмотрите случай, когда пользователь добавляет полку, которая уже существует.\n",
    "\n",
    "def add_shelf(new):\n",
    "    \"\"\"\n",
    "    add_shelf – команда, которая спросит номер новой полки и добавит ее в перечень. \n",
    "    Если пользователь хочет добавить полку, которая уже существует, будет сообщение о том, что заданный номе уже существует\n",
    "    \"\"\"\n",
    "    new = str(new)\n",
    "    if new in directories:\n",
    "        print('Выберите другой номер полки, заданный вами уже существует')\n",
    "    else:\n",
    "        directories[new] = []\n",
    "        print(directories)   \n",
    "add_shelf(7)\n",
    "# print(directories)   "
   ]
  },
  {
   "cell_type": "code",
   "execution_count": 163,
   "metadata": {},
   "outputs": [
    {
     "name": "stdout",
     "output_type": "stream",
     "text": [
      "[{'name': 'Василий Гупкин', 'number': '2207 876234', 'type': 'passport'},\n",
      " {'name': 'Аристарх Павлов', 'number': '10006', 'type': 'insurance'}]\n",
      "{'1': ['2207 876234'], '2': ['10006'], '3': []}\n"
     ]
    }
   ],
   "source": [
    "#d – delete – команда, которая спросит номер документа и удалит его из каталога и из перечня полок.#\n",
    "#Предусмотрите сценарий, когда пользователь вводит несуществующий документ;\n",
    "from pprint import pprint\n",
    "def delete_doc(nomer):\n",
    "    \"\"\"\n",
    "    # delete_doc() – команда, которая спросит номер документа и удалит его из каталога и из перечня полок.#\n",
    "    # Если пользователь вводит несуществующий документ, то будет сообщение о том, что такого документа нет\n",
    "    \"\"\"\n",
    "    nomer = str(nomer)\n",
    "    for elem in documents:\n",
    "        if list(elem.values())[1] == nomer:\n",
    "            i = documents.index(elem)\n",
    "            documents.pop(i)\n",
    "            for keys_dict in directories:\n",
    "                for k in range(len(directories[keys_dict])):\n",
    "                    if directories[keys_dict][k] == nomer:\n",
    "                        directories[keys_dict].pop(k)\n",
    "        \n",
    "delete_doc('11-2')    \n",
    "pprint(documents)    \n",
    "pprint(directories)"
   ]
  },
  {
   "cell_type": "code",
   "execution_count": 6,
   "metadata": {},
   "outputs": [],
   "source": [
    "#m – move – команда, которая спросит номер документа и целевую полку\n",
    "#и переместит его с текущей полки на целевую. Корректно обработайте кейсы, \n",
    "#когда пользователь пытается переместить несуществующий документ или переместить документ на несуществующую полку;\n",
    "def move_doc(count,goal_shelf):\n",
    "    \"\"\"\n",
    "    move_doc – команда, которая спрашивает номер документа и целевую полку,\n",
    "    перемещает его с текущей полки на целевую. Корректно обработайте кейсы, \n",
    "    когда пользователь пытается переместить несуществующий документ или переместить документ на несуществующую полку;\n",
    "    \"\"\"\n",
    "    count = str(count)\n",
    "    goal_shelf = str(goal_shelf)\n",
    "#     current_shelf = directories.items()\n",
    "    if count in directories:\n",
    "        print('Выберите другой номер полки, заданный вами уже существует')\n",
    "    else:\n",
    "        directories[new] = []\n",
    "        print(directories)   \n",
    "\n",
    "    \n",
    "\n",
    "        for  in directories:\n",
    "\n",
    "        for i in range(len(directories[])):\n",
    "            if directories[][i] == s:\n",
    "                print()\n",
    "\n",
    "\n",
    " \n",
    "    \n",
    "   \n",
    "\n",
    "\n",
    "move_doc('10006',3)"
   ]
  },
  {
   "cell_type": "code",
   "execution_count": 7,
   "metadata": {},
   "outputs": [],
   "source": [
    "#a – add – команда, которая добавит новый документ в каталог и в перечень полок,\n",
    "#спросив его номер, тип, имя владельца и номер полки, на котором он будет храниться. \n",
    "#Корректно обработайте ситуацию,\n",
    "#когда пользователь будет пытаться добавить документ на несуществующую полку."
   ]
  },
  {
   "cell_type": "code",
   "execution_count": null,
   "metadata": {},
   "outputs": [],
   "source": []
  }
 ],
 "metadata": {
  "kernelspec": {
   "display_name": "Python 3",
   "language": "python",
   "name": "python3"
  },
  "language_info": {
   "codemirror_mode": {
    "name": "ipython",
    "version": 3
   },
   "file_extension": ".py",
   "mimetype": "text/x-python",
   "name": "python",
   "nbconvert_exporter": "python",
   "pygments_lexer": "ipython3",
   "version": "3.7.6"
  }
 },
 "nbformat": 4,
 "nbformat_minor": 4
}
