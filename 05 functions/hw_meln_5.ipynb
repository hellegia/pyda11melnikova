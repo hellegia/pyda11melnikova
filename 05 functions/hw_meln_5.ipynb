{
 "cells": [
  {
   "cell_type": "markdown",
   "metadata": {},
   "source": [
    "Вы работаете секретарем и вам постоянно приходят различные документы. Вы должны быть очень внимательны, чтобы не потерять ни один документ. Каталог документов хранится в следующем виде:"
   ]
  },
  {
   "cell_type": "code",
   "execution_count": 276,
   "metadata": {},
   "outputs": [],
   "source": [
    "documents = [\n",
    "    {'type': 'passport', 'number': '2207 876234', 'name': 'Василий Гупкин'},\n",
    "    {'type': 'invoice', 'number': '11-2', 'name': 'Геннадий Покемонов'},\n",
    "    {'type': 'insurance', 'number': '10006', 'name': 'Аристарх Павлов'}\n",
    "]"
   ]
  },
  {
   "cell_type": "markdown",
   "metadata": {},
   "source": [
    "Перечень полок, на которых находятся документы хранится в следующем виде:"
   ]
  },
  {
   "cell_type": "code",
   "execution_count": 355,
   "metadata": {},
   "outputs": [],
   "source": [
    "directories = {\n",
    "    '1': ['2207 876234', '11-2'],\n",
    "    '2': ['10006'],\n",
    "    '3': []\n",
    "}"
   ]
  },
  {
   "cell_type": "code",
   "execution_count": 353,
   "metadata": {},
   "outputs": [
    {
     "name": "stdout",
     "output_type": "stream",
     "text": [
      "Аристарх Павлов\n"
     ]
    }
   ],
   "source": [
    "def know_person(number):\n",
    "    \"\"\"\n",
    "    know_person – команда, которая спросит номер документа и выведет имя человека, которому он принадлежит\n",
    "    \"\"\"\n",
    "    for item in documents:\n",
    "        if list(item.values())[1] == number:\n",
    "            print(list(item.values())[2])\n",
    "know_person('10006')"
   ]
  },
  {
   "cell_type": "code",
   "execution_count": 354,
   "metadata": {},
   "outputs": [
    {
     "name": "stdout",
     "output_type": "stream",
     "text": [
      "Ваш документ находится на 3 полке\n"
     ]
    }
   ],
   "source": [
    "def know_shelf(s):\n",
    "    \"\"\"\n",
    "    know_shelf – команда, которая спрашивает номер документа и выведет номер полки, на которой он находится,\n",
    "    если такого документа не существует,то будет сообщение \"Такого документа не существует, введите другой номер\"\n",
    "    \"\"\"\n",
    "    all_list = []\n",
    "    for el in directories:\n",
    "        all_list.extend(directories[el])\n",
    "    if s not in all_list:\n",
    "        print('Такого документа не существует, введите другой номер')\n",
    "    else:\n",
    "        for element in directories:\n",
    "            if s in directories[element]:\n",
    "                    print(f'Ваш документ находится на {element} полке')\n",
    "know_shelf('2207 876234')"
   ]
  },
  {
   "cell_type": "code",
   "execution_count": 82,
   "metadata": {},
   "outputs": [
    {
     "name": "stdout",
     "output_type": "stream",
     "text": [
      "\u001b[1m passport \"2207 876234\" \"Василий Гупкин\"\n",
      "\u001b[1m invoice \"11-2\" \"Геннадий Покемонов\"\n",
      "\u001b[1m insurance \"10006\" \"Аристарх Павлов\"\n"
     ]
    }
   ],
   "source": [
    "# вопрос,здесь список слово использовалось как перечень,или как тип данных Питон? подозреваю,что перечень\n",
    "def list_doc():\n",
    "    \"\"\"\n",
    "    list_doc – команда, которая выведет список всех документов в формате\n",
    "    passport \"2207 876234\" \"Василий Гупкин\" c выделением жирным\n",
    "    \"\"\"\n",
    "    for doc in documents:\n",
    "        print(f'\\033[1m {list(doc.values())[0]} \"{list(doc.values())[1]}\" \"{list(doc.values())[2]}\"')\n",
    "list_doc()"
   ]
  },
  {
   "cell_type": "code",
   "execution_count": 356,
   "metadata": {},
   "outputs": [
    {
     "name": "stdout",
     "output_type": "stream",
     "text": [
      "{'1': ['2207 876234', '11-2'], '2': ['10006'], '3': [], '6': []}\n"
     ]
    }
   ],
   "source": [
    "def add_shelf(new):\n",
    "    \"\"\"\n",
    "    add_shelf – команда, которая спросит номер новой полки и добавит ее в перечень. \n",
    "    Если пользователь хочет добавить полку, которая уже существует, будет\n",
    "    сообщение о том, что заданный номе уже существует.\n",
    "    \"\"\"\n",
    "    new = str(new)\n",
    "    if new in directories:\n",
    "        print('Выберите другой номер полки, заданный вами уже существует')\n",
    "    else:\n",
    "        directories[new] = []\n",
    "        print(directories)   \n",
    "add_shelf(6)"
   ]
  },
  {
   "cell_type": "code",
   "execution_count": 357,
   "metadata": {},
   "outputs": [
    {
     "name": "stdout",
     "output_type": "stream",
     "text": [
      "Обновленный каталог документов и перечень полок:\n",
      "[{'name': 'Василий Гупкин', 'number': '2207 876234', 'type': 'passport'},\n",
      " {'name': 'Геннадий Покемонов', 'number': '11-2', 'type': 'invoice'}]\n",
      "{'1': ['2207 876234', '11-2'], '2': [], '3': [], '6': []}\n"
     ]
    }
   ],
   "source": [
    "#была мысль использовать функцию know_shelf() внутри, но не срослось(((( еще немного не доросла\n",
    "from pprint import pprint\n",
    "def delete_doc(nomer):\n",
    "    \"\"\"\n",
    "    delete_doc() – команда, которая спросит номер документа и удалит его\n",
    "    из каталога и из перечня полок. Если пользователь вводит несуществующий документ,\n",
    "    то будет сообщение о том, что такого документа нет.\n",
    "    \"\"\"\n",
    "    all_list = []\n",
    "    for el in directories:\n",
    "        all_list.extend(directories[el])\n",
    "    if str(nomer) not in all_list:\n",
    "        print('Такого документа не существует, введите другой номер')\n",
    "    else:\n",
    "        for elem in documents:\n",
    "            if list(elem.values())[1] == nomer:\n",
    "                documents.remove(elem)\n",
    "                for keys_dict in directories:\n",
    "                    if nomer in directories[keys_dict]:\n",
    "                        directories[keys_dict].remove(nomer)\n",
    "        print('Обновленный каталог документов и перечень полок:')\n",
    "        pprint(documents)    \n",
    "        pprint(directories)\n",
    "delete_doc('10006')"
   ]
  },
  {
   "cell_type": "code",
   "execution_count": 352,
   "metadata": {},
   "outputs": [
    {
     "name": "stdout",
     "output_type": "stream",
     "text": [
      "{'1': ['11-2'], '2': ['10006'], '3': ['2207 876234']}\n"
     ]
    }
   ],
   "source": [
    "def move_doc(num_doc,goal_shelf):\n",
    "    \"\"\"\n",
    "    move_doc – команда, которая спрашивает номер документа и целевую полку,\n",
    "    перемещает его с текущей полки на целевую.\n",
    "    Если пользователь пытается переместить несуществующий документ или переместить документ\n",
    "    на несуществующую полку, выдается сообщение \"Введенные данные некорректны, измените ввод\".Если пользователь\n",
    "    случайно указал туже самую полку,то выйдет сообщение \"Вы пытаетесь переместить на эту же полку\"\n",
    "    \"\"\"\n",
    "    all_list = []\n",
    "    for items in directories:\n",
    "        all_list.extend(directories[items])\n",
    "    if goal_shelf not in directories or num_doc not in all_list:\n",
    "        print('Введенные данные некорректны, измените ввод.')\n",
    "    else:\n",
    "        if directories[goal_shelf].count(num_doc) != 0:\n",
    "            print('Вы пытаетесь переместить на эту же полку.')\n",
    "        else:\n",
    "            for element in directories:\n",
    "                if num_doc in directories[element]:\n",
    "                        directories[goal_shelf].append(num_doc)\n",
    "                        directories[element].remove(num_doc)\n",
    "    print(directories)  \n",
    "move_doc('2207 876234','3')"
   ]
  },
  {
   "cell_type": "code",
   "execution_count": 358,
   "metadata": {},
   "outputs": [
    {
     "name": "stdout",
     "output_type": "stream",
     "text": [
      "[{'type': 'passport', 'number': '2207 876234', 'name': 'Василий Гупкин'}, {'type': 'invoice', 'number': '11-2', 'name': 'Геннадий Покемонов'}, {'type': 'drivers license', 'number': '4209 984516', 'name': 'Лариса Михайлова'}]\n",
      "{'1': ['2207 876234', '11-2'], '2': [], '3': ['4209 984516'], '6': []}\n"
     ]
    }
   ],
   "source": [
    "def add_doc(type_doc = 'drivers license',number_doc = '4209 984516',name_person = 'Лариса Михайлова',number_shelf = '3'):\n",
    "    \"\"\"\n",
    "    add_doc – команда, которая добавит новый документ в каталог и в перечень полок,\n",
    "    спросив его тип, номер, имя владельца и номер полки, на котором он будет храниться. \n",
    "    Если пользователь будет пытаться добавить документ на несуществующую полку,\n",
    "    то появится сообщение \"Данная полка не существует\"\n",
    "    \"\"\"\n",
    "    new_person = {}\n",
    "    new_person = {'type': type_doc, 'number': number_doc,'name': name_person}\n",
    "    documents.append(new_person)\n",
    "    if number_shelf not in directories:\n",
    "        print('Данная полка не существует')\n",
    "    else:\n",
    "        directories[number_shelf].append(number_doc)\n",
    "    print(documents)    \n",
    "    print(directories)   \n",
    "add_doc()"
   ]
  },
  {
   "cell_type": "code",
   "execution_count": null,
   "metadata": {},
   "outputs": [],
   "source": []
  }
 ],
 "metadata": {
  "kernelspec": {
   "display_name": "Python 3",
   "language": "python",
   "name": "python3"
  },
  "language_info": {
   "codemirror_mode": {
    "name": "ipython",
    "version": 3
   },
   "file_extension": ".py",
   "mimetype": "text/x-python",
   "name": "python",
   "nbconvert_exporter": "python",
   "pygments_lexer": "ipython3",
   "version": "3.7.6"
  }
 },
 "nbformat": 4,
 "nbformat_minor": 4
}
